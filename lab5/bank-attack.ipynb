{
 "cells": [
  {
   "cell_type": "code",
   "execution_count": 2,
   "metadata": {},
   "outputs": [],
   "source": [
    "import subprocess\n",
    "import matplotlib.pyplot as plt"
   ]
  },
  {
   "cell_type": "code",
   "execution_count": 4,
   "metadata": {},
   "outputs": [],
   "source": [
    "BANK_ACCOUNT_FILE_PREFIX = \"data/bank_account_\"\n",
    "ENCRYPTED_BANK_ACCOUNT_FILE_PREFIX = \"data/encrypted_bank_account_\"\n",
    "FILE_SUFFIX = \".txt\"\n",
    "\n",
    "MAX_ACCOUNTS_NUMBER = 50"
   ]
  },
  {
   "cell_type": "code",
   "execution_count": 5,
   "metadata": {},
   "outputs": [],
   "source": [
    "def generate_key():\n",
    "    subprocess.run([\"./key-gen\", \"256\", \"8\", \"key.txt\"])\n",
    "\n",
    "def generate_encrypt_bank_accounts(n: int):\n",
    "    for i in range(n):\n",
    "        subprocess.run([\"./bank-account-gen\", BANK_ACCOUNT_FILE_PREFIX + str(i) + FILE_SUFFIX])\n",
    "        subprocess.run([\"./rc4-encrypt\", \"key.txt\", BANK_ACCOUNT_FILE_PREFIX + str(i) + FILE_SUFFIX, ENCRYPTED_BANK_ACCOUNT_FILE_PREFIX + str(i) + FILE_SUFFIX])\n",
    "        \n",
    "def remove_generated_files(n: int):\n",
    "    for i in range(n):\n",
    "        subprocess.run([\"rm\", BANK_ACCOUNT_FILE_PREFIX + str(i) + FILE_SUFFIX])\n",
    "        subprocess.run([\"rm\", ENCRYPTED_BANK_ACCOUNT_FILE_PREFIX + str(i) + FILE_SUFFIX])"
   ]
  },
  {
   "cell_type": "code",
   "execution_count": 7,
   "metadata": {},
   "outputs": [],
   "source": [
    "generate_key()\n",
    "generate_encrypt_bank_accounts(MAX_ACCOUNTS_NUMBER)"
   ]
  },
  {
   "cell_type": "code",
   "execution_count": 24,
   "metadata": {},
   "outputs": [],
   "source": [
    "remove_generated_files(MAX_ACCOUNTS_NUMBER)"
   ]
  },
  {
   "cell_type": "markdown",
   "metadata": {},
   "source": []
  }
 ],
 "metadata": {
  "kernelspec": {
   "display_name": "Python 3",
   "language": "python",
   "name": "python3"
  },
  "language_info": {
   "codemirror_mode": {
    "name": "ipython",
    "version": 3
   },
   "file_extension": ".py",
   "mimetype": "text/x-python",
   "name": "python",
   "nbconvert_exporter": "python",
   "pygments_lexer": "ipython3",
   "version": "3.12.3"
  }
 },
 "nbformat": 4,
 "nbformat_minor": 2
}
